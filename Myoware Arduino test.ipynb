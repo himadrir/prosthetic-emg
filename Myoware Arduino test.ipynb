{
 "cells": [
  {
   "cell_type": "code",
   "execution_count": 1,
   "id": "b85f8620",
   "metadata": {},
   "outputs": [],
   "source": [
    "import time\n",
    "import serial\n",
    "import numpy as np\n",
    "import matplotlib.pyplot as plt"
   ]
  },
  {
   "cell_type": "code",
   "execution_count": 2,
   "id": "564aaec7",
   "metadata": {},
   "outputs": [
    {
     "name": "stdout",
     "output_type": "stream",
     "text": [
      "[81, 81, 81, 81, 81, 81, 81, 81, 81, 81, 81, 81, 81, 81, 80, 81, 81, 80, 80, 80, 79, 79, 79, 78, 78, 78, 78, 78, 78, 78, 78, 77, 78, 77, 76, 76, 76, 76, 77, 76, 77, 76, 77, 77, 77, 77, 77, 77, 78, 78, 78, 77, 78, 78, 78, 78, 78, 78, 79, 79, 79, 79, 78, 78, 78, 78, 79, 78, 78, 79, 79, 79, 79, 79, 79, 79, 80, 79, 79, 80, 79, 79, 79, 79, 79, 79, 78, 79, 79, 79, 79, 79, 79, 79, 79, 79, 79, 79, 79, 79, 80, 79, 79, 79, 79, 78, 78, 78, 79, 79, 79, 79, 79, 79, 79, 79, 79, 79, 79, 80, 80, 80, 80, 80, 80, 79, 79, 79, 78, 79, 79, 78, 78, 79, 78, 78, 79, 78, 78, 78, 78, 78, 78, 78, 79, 79, 79, 79, 80, 80, 80, 80, 80, 80, 80, 80, 80, 80, 80, 80, 80, 79, 79, 78, 78, 79, 78, 78, 78, 78, 78, 78, 78, 78, 78, 78, 78, 78, 77, 78, 78, 78, 78, 77, 77, 77, 77, 76, 77, 76, 76, 76, 76, 76, 75, 76, 76, 76, 76, 75, 76, 76, 76, 76, 76, 76, 76, 75, 75, 76, 75, 75, 75, 75, 76, 75, 75, 76, 76, 76, 75, 76, 75, 75, 75, 75, 74, 75, 74, 75, 75, 75, 75, 75, 75, 76, 76, 75, 75, 76, 75, 76, 75, 76, 75, 75, 75, 75, 75, 75, 75, 75, 75, 75, 75, 75, 75, 74, 73, 74, 73, 73, 74, 73, 73, 73, 73, 73, 73, 73, 74, 74, 74, 74, 74, 73, 74, 74, 74, 74, 75, 74, 74, 74, 74, 73, 73, 73, 73, 73, 72, 72, 72, 72, 72, 72, 72, 73, 73, 73, 72, 72, 71, 71, 72, 72, 72, 71, 72, 71, 72, 71, 71, 71, 71, 71, 71, 71, 72, 71, 70, 70, 70, 71, 70, 70, 70, 70, 70, 69, 70, 70, 71, 70, 70, 71, 71, 71, 71, 71, 72, 72, 72, 72, 71, 71, 71, 71, 71, 71, 72, 71, 71, 72, 72, 71, 71, 71, 71, 71, 71, 71, 71, 72, 73, 73, 72, 72, 72, 73, 73, 73, 73, 72, 72, 72, 71, 71, 71, 70, 70, 70, 70, 70, 70, 70, 69, 70, 69, 69, 69, 70, 69, 70, 70, 70, 69, 70, 70, 70, 70, 69, 70, 69, 69, 69, 70, 70, 71, 70, 71, 71, 70, 70, 71, 71, 72, 71, 72, 72, 72, 72, 73, 73, 73, 73, 73, 73, 73, 73, 73, 72, 73, 72, 73, 73, 72, 72, 72, 72, 72, 72, 72, 72, 72, 72, 72, 72, 72, 71, 71, 72, 71, 71, 71, 71, 70, 71, 70, 71, 70, 70, 70, 70, 70, 70, 70, 70, 70, 70, 70, 70, 71, 70, 70, 71, 71, 71, 71, 71, 71, 71, 71, 72, 71, 72, 71, 72, 72, 72, 71, 71, 72, 72, 72, 72, 72, 71, 71, 72, 72, 72, 72, 72, 72, 73, 73, 73, 73, 74, 73, 73, 73, 73, 73, 73, 73, 73, 73, 73, 72, 72, 72, 72, 72, 72, 72, 72, 72, 71, 72, 71, 73, 72, 72, 72, 73, 72, 72, 72, 72, 72, 72, 71, 71, 72, 71, 71, 71, 71, 72, 71, 71, 71, 70, 70, 70, 71, 71, 70, 70, 70, 70, 70, 70, 70, 70, 70, 70, 70, 71, 71, 71, 72, 71, 71, 72, 72, 72, 71, 72, 71, 70, 71, 70, 70, 70, 70, 69, 70, 70, 70, 70, 70, 70, 71, 70, 70, 70, 70, 71, 71, 71, 71, 71, 71, 70, 71, 71, 71, 70, 71, 70, 71, 71, 71, 71, 71, 71, 72, 72, 72, 72, 72, 72, 72, 72, 72, 72, 72, 72, 72, 72, 72, 72, 73, 73, 73, 73, 73, 72, 72, 72, 73, 73, 73, 73, 73, 73, 73, 73, 73, 73, 73, 73, 73, 73, 73, 73, 74, 73, 74, 74, 74, 74, 74, 74, 74, 74, 74, 74, 74, 74, 74, 74, 75, 74, 75, 75, 75, 75, 75, 75, 76, 76, 76, 75, 76, 76, 76, 76, 77, 77, 77, 77, 77, 77, 77, 77, 77, 78, 78, 78, 78, 78, 78, 78, 78, 78, 78, 78, 78, 78, 79, 78, 79, 79, 79, 78, 78, 78, 78, 78, 78, 79, 79, 79, 78, 78, 78, 78, 78, 78, 77, 77, 77, 77, 76, 76, 76, 76, 76, 76, 76, 76, 76, 75, 76, 76, 77, 77, 77, 77, 78, 78, 78, 78, 78, 78, 78, 78, 78, 78, 77, 78, 78, 78, 78, 78, 78, 79, 78, 79, 79, 79, 80, 80, 80, 80, 80, 80, 80, 81, 80, 80, 80, 80, 79, 80, 79, 80, 80, 80, 80, 80, 80, 80, 80, 80, 80, 80, 80, 80, 80, 80, 81, 80, 80, 80, 80, 80, 80, 80, 81, 81, 81, 80, 80, 81, 80, 80, 80, 80, 80, 81, 80, 81, 80, 80, 81, 81, 80, 80, 81, 81, 81, 81, 81, 80, 81, 81, 81, 81, 81, 81, 81, 81, 81, 82, 82, 81, 82, 82, 82, 82, 82, 83, 82, 82, 82, 82, 83, 82, 81, 81, 81, 81, 81, 81, 80, 81, 80, 80, 80, 80, 80, 80, 80, 79, 79, 80, 80, 79, 79, 79, 80, 80, 80, 80, 80, 81, 81, 81, 80, 81, 81, 81, 81, 81, 80, 80, 80, 80, 80, 80, 80, 80, 80, 81, 80, 80, 80, 80, 80, 81, 80, 81, 80, 81, 80, 81, 80, 80, 80, 80, 80, 81, 80, 80, 80, 80, 80, 81, 80, 80, 80, 80, 81, 81, 81, 81, 81, 81, 81, 81, 80, 81, 80, 80, 80, 79, 80, 80, 81, 80, 80, 81, 81, 80, 80, 80, 80, 80, 80, 79, 79, 79, 78, 78, 78, 77, 78, 78, 78, 78, 79, 78, 78, 78, 78, 78, 79, 79, 79, 79, 79, 79, 79, 79, 80, 79, 80, 80, 80, 81, 80, 80, 80, 80, 80] \n",
      "\n"
     ]
    }
   ],
   "source": [
    "ser = serial.Serial('COM9',9600,timeout=1)\n",
    "val_arr = []\n",
    "i=0\n",
    "while i<=1000:\n",
    "    i = i+1\n",
    "    val = ser.readline().decode('ascii')\n",
    "    if val != '':\n",
    "        val =int(val)\n",
    "#     val_int_2 = int.from_bytes(val, byteorder=\"big\")\n",
    "        val_arr.append(val)\n",
    "    #print(val_int_2)\n",
    "    \n",
    "#     print(type(val))\n",
    "    \n",
    "#     time.sleep(0.01)\n",
    "# val_int.pop(0)\n",
    "print(val_arr,\"\\n\")\n"
   ]
  },
  {
   "cell_type": "code",
   "execution_count": 3,
   "id": "75a4083e",
   "metadata": {},
   "outputs": [
    {
     "data": {
      "text/plain": [
       "[<matplotlib.lines.Line2D at 0x1a8aa8431f0>]"
      ]
     },
     "execution_count": 3,
     "metadata": {},
     "output_type": "execute_result"
    },
    {
     "data": {
      "image/png": "[encoded data removed]",
      "text/plain": [
       "<Figure size 432x288 with 1 Axes>"
      ]
     },
     "metadata": {
      "needs_background": "light"
     },
     "output_type": "display_data"
    }
   ],
   "source": [
    "plt.plot(val_arr)\n"
   ]
  },
  {
   "cell_type": "code",
   "execution_count": null,
   "id": "f91b812d",
   "metadata": {},
   "outputs": [],
   "source": []
  },
  {
   "cell_type": "code",
   "execution_count": null,
   "id": "6afe7daf",
   "metadata": {},
   "outputs": [],
   "source": []
  },
  {
   "cell_type": "code",
   "execution_count": null,
   "id": "f15a5736",
   "metadata": {},
   "outputs": [],
   "source": []
  },
  {
   "cell_type": "code",
   "execution_count": null,
   "id": "5230fa08",
   "metadata": {},
   "outputs": [],
   "source": []
  }
 ],
 "metadata": {
  "kernelspec": {
   "display_name": "Python 3 (ipykernel)",
   "language": "python",
   "name": "python3"
  },
  "language_info": {
   "codemirror_mode": {
    "name": "ipython",
    "version": 3
   },
   "file_extension": ".py",
   "mimetype": "text/x-python",
   "name": "python",
   "nbconvert_exporter": "python",
   "pygments_lexer": "ipython3",
   "version": "3.8.13"
  }
 },
 "nbformat": 4,
 "nbformat_minor": 5
}
